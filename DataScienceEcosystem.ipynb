{
 "cells": [
  {
   "cell_type": "markdown",
   "id": "b96e96c0",
   "metadata": {},
   "source": [
    "# Data Science Tools and Ecosystem"
   ]
  },
  {
   "cell_type": "markdown",
   "id": "62a27e4f",
   "metadata": {},
   "source": [
    "In this notebook, Data Science Tools and Ecosystem are summarized"
   ]
  },
  {
   "cell_type": "markdown",
   "id": "16750cc4",
   "metadata": {},
   "source": [
    "**Objectives:**\n",
    "* Describe how to use the notebooks in JupyterLab.\n",
    "* Describe how to work in a notebook session.\n",
    "* Describe the basic Jupyter architecture.\n"
   ]
  },
  {
   "cell_type": "markdown",
   "id": "44fa23a0",
   "metadata": {},
   "source": [
    "## Author\n",
    "Shi Chuanhua"
   ]
  },
  {
   "cell_type": "markdown",
   "id": "30e2661e",
   "metadata": {},
   "source": [
    "Some of the popular languages that Data Scientists use are:\n",
    "1. Python\n",
    "2. R\n",
    "3. Go"
   ]
  },
  {
   "cell_type": "markdown",
   "id": "3e15ee0e",
   "metadata": {},
   "source": [
    "Some of the commonly used libraries used by Data Scientists include:\n",
    "1. NumPy\n",
    "2. SciPy\n",
    "3. Pandas"
   ]
  },
  {
   "cell_type": "markdown",
   "id": "b271edd1",
   "metadata": {},
   "source": [
    "|Data Science Tools|\n",
    "|:-|\n",
    "|Jupyter Notebook|\n",
    "|R Studio|\n",
    "|Apache Spark|"
   ]
  },
  {
   "cell_type": "markdown",
   "id": "a2d45897",
   "metadata": {},
   "source": [
    "### Below are a few examples of evaluating arithmetic expressions in Python.\n",
    "\n",
    "1. \\begin{equation} y= 4^{2} \\end{equation}\n",
    "   y=4**2 \n",
    "   y= 16 \n",
    "2. \\begin{equation}x= \\sqrt{4}  \\end{equation}\n",
    "   x=4**1/2 \n",
    "   x= 2\n",
    "\n",
    "\n"
   ]
  },
  {
   "cell_type": "code",
   "execution_count": 5,
   "id": "d751bef7",
   "metadata": {},
   "outputs": [
    {
     "data": {
      "text/plain": [
       "17"
      ]
     },
     "execution_count": 5,
     "metadata": {},
     "output_type": "execute_result"
    }
   ],
   "source": [
    "(3*4)+5\n",
    "#This a simple arithmetic expression to mutiply then add integers\n"
   ]
  },
  {
   "cell_type": "code",
   "execution_count": 7,
   "id": "ba2ce7b4",
   "metadata": {},
   "outputs": [
    {
     "data": {
      "text/plain": [
       "3.33"
      ]
     },
     "execution_count": 7,
     "metadata": {},
     "output_type": "execute_result"
    }
   ],
   "source": [
    "round(200/60,2)\n",
    "#This will convert 200 minutes to hours by diving by 60"
   ]
  }
 ],
 "metadata": {
  "kernelspec": {
   "display_name": "Python 3 (ipykernel)",
   "language": "python",
   "name": "python3"
  },
  "language_info": {
   "codemirror_mode": {
    "name": "ipython",
    "version": 3
   },
   "file_extension": ".py",
   "mimetype": "text/x-python",
   "name": "python",
   "nbconvert_exporter": "python",
   "pygments_lexer": "ipython3",
   "version": "3.9.17"
  }
 },
 "nbformat": 4,
 "nbformat_minor": 5
}
